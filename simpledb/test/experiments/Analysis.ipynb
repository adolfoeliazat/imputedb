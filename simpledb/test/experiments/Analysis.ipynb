{
 "cells": [
  {
   "cell_type": "code",
   "execution_count": 1,
   "metadata": {
    "collapsed": false
   },
   "outputs": [
    {
     "data": {
      "application/javascript": [
       "IPython.notebook.set_autosave_interval(0)"
      ]
     },
     "metadata": {},
     "output_type": "display_data"
    },
    {
     "name": "stdout",
     "output_type": "stream",
     "text": [
      "Autosave disabled\n"
     ]
    },
    {
     "name": "stderr",
     "output_type": "stream",
     "text": [
      "/opt/conda/lib/python3.5/site-packages/matplotlib/font_manager.py:273: UserWarning: Matplotlib is building the font cache using fc-list. This may take a moment.\n",
      "  warnings.warn('Matplotlib is building the font cache using fc-list. This may take a moment.')\n",
      "/opt/conda/lib/python3.5/site-packages/matplotlib/font_manager.py:273: UserWarning: Matplotlib is building the font cache using fc-list. This may take a moment.\n",
      "  warnings.warn('Matplotlib is building the font cache using fc-list. This may take a moment.')\n"
     ]
    }
   ],
   "source": [
    "%autosave 0\n",
    "import os\n",
    "import pandas as pd\n",
    "import numpy as np\n",
    "import matplotlib\n",
    "import matplotlib.pyplot as plt\n",
    "%matplotlib inline\n",
    "\n",
    "plt.style.use(['seaborn-white', 'seaborn-paper'])\n",
    "matplotlib.rc(\"font\",size=22)"
   ]
  },
  {
   "cell_type": "code",
   "execution_count": 3,
   "metadata": {
    "collapsed": false
   },
   "outputs": [
    {
     "data": {
      "text/plain": [
       "['perf_summary.tex',\n",
       " 'planning_times_base_tables.csv',\n",
       " 'planning_times_imputedb.csv',\n",
       " 'running_times_base_tables.csv',\n",
       " 'running_times_imputedb.csv']"
      ]
     },
     "execution_count": 3,
     "metadata": {},
     "output_type": "execute_result"
    }
   ],
   "source": [
    "os.listdir(\"/data/large03/analysis\")"
   ]
  },
  {
   "cell_type": "code",
   "execution_count": 4,
   "metadata": {
    "collapsed": false
   },
   "outputs": [
    {
     "data": {
      "text/plain": [
       "['perf_summary.tex',\n",
       " 'planning_times_base_tables.csv',\n",
       " 'planning_times_imputedb.csv',\n",
       " 'running_times_base_tables.csv',\n",
       " 'running_times_imputedb.csv']"
      ]
     },
     "execution_count": 4,
     "metadata": {},
     "output_type": "execute_result"
    }
   ],
   "source": [
    "os.listdir(\"/data/large04/analysis\")"
   ]
  },
  {
   "cell_type": "code",
   "execution_count": 11,
   "metadata": {
    "collapsed": true
   },
   "outputs": [],
   "source": [
    "# Load data\n",
    "def load_data(kind, name, subdir=\"\"):\n",
    "    df = pd.read_csv(os.path.join(\"/data\", subdir, \"{}_{}.csv\".format(kind, name)))\n",
    "    return df\n",
    "\n",
    "nqueries = 13\n",
    "running_times_imputedb = load_data(\"running_times\",\"imputedb\",\"large03/analysis\")\n",
    "running_times_base_tables = load_data(\"running_times\",\"base_tables\",\"large03/analysis\")"
   ]
  },
  {
   "cell_type": "code",
   "execution_count": 6,
   "metadata": {
    "collapsed": false
   },
   "outputs": [
    {
     "data": {
      "text/html": [
       "<div>\n",
       "<table border=\"1\" class=\"dataframe\">\n",
       "  <thead>\n",
       "    <tr style=\"text-align: right;\">\n",
       "      <th></th>\n",
       "      <th>Unnamed: 0</th>\n",
       "      <th>query</th>\n",
       "      <th>alpha</th>\n",
       "      <th>mean</th>\n",
       "      <th>std</th>\n",
       "    </tr>\n",
       "  </thead>\n",
       "  <tbody>\n",
       "    <tr>\n",
       "      <th>0</th>\n",
       "      <td>0</td>\n",
       "      <td>0.0</td>\n",
       "      <td>Impute at base tables</td>\n",
       "      <td>6547.945</td>\n",
       "      <td>24.885506</td>\n",
       "    </tr>\n",
       "    <tr>\n",
       "      <th>1</th>\n",
       "      <td>1</td>\n",
       "      <td>1.0</td>\n",
       "      <td>Impute at base tables</td>\n",
       "      <td>10661.390</td>\n",
       "      <td>33.137719</td>\n",
       "    </tr>\n",
       "    <tr>\n",
       "      <th>2</th>\n",
       "      <td>2</td>\n",
       "      <td>2.0</td>\n",
       "      <td>Impute at base tables</td>\n",
       "      <td>10672.580</td>\n",
       "      <td>31.472467</td>\n",
       "    </tr>\n",
       "    <tr>\n",
       "      <th>3</th>\n",
       "      <td>3</td>\n",
       "      <td>3.0</td>\n",
       "      <td>Impute at base tables</td>\n",
       "      <td>10679.545</td>\n",
       "      <td>30.605415</td>\n",
       "    </tr>\n",
       "    <tr>\n",
       "      <th>4</th>\n",
       "      <td>4</td>\n",
       "      <td>4.0</td>\n",
       "      <td>Impute at base tables</td>\n",
       "      <td>15951.700</td>\n",
       "      <td>51.275294</td>\n",
       "    </tr>\n",
       "  </tbody>\n",
       "</table>\n",
       "</div>"
      ],
      "text/plain": [
       "   Unnamed: 0  query                  alpha       mean        std\n",
       "0           0    0.0  Impute at base tables   6547.945  24.885506\n",
       "1           1    1.0  Impute at base tables  10661.390  33.137719\n",
       "2           2    2.0  Impute at base tables  10672.580  31.472467\n",
       "3           3    3.0  Impute at base tables  10679.545  30.605415\n",
       "4           4    4.0  Impute at base tables  15951.700  51.275294"
      ]
     },
     "execution_count": 6,
     "metadata": {},
     "output_type": "execute_result"
    }
   ],
   "source": [
    "running_times_base_tables.head()"
   ]
  },
  {
   "cell_type": "code",
   "execution_count": 7,
   "metadata": {
    "collapsed": false
   },
   "outputs": [
    {
     "data": {
      "text/html": [
       "<div>\n",
       "<table border=\"1\" class=\"dataframe\">\n",
       "  <thead>\n",
       "    <tr style=\"text-align: right;\">\n",
       "      <th></th>\n",
       "      <th>Unnamed: 0</th>\n",
       "      <th>query</th>\n",
       "      <th>alpha</th>\n",
       "      <th>mean</th>\n",
       "      <th>std</th>\n",
       "    </tr>\n",
       "  </thead>\n",
       "  <tbody>\n",
       "    <tr>\n",
       "      <th>0</th>\n",
       "      <td>0</td>\n",
       "      <td>0.0</td>\n",
       "      <td>0.0</td>\n",
       "      <td>625.930</td>\n",
       "      <td>13.817733</td>\n",
       "    </tr>\n",
       "    <tr>\n",
       "      <th>1</th>\n",
       "      <td>1</td>\n",
       "      <td>0.0</td>\n",
       "      <td>1.0</td>\n",
       "      <td>14.120</td>\n",
       "      <td>1.580535</td>\n",
       "    </tr>\n",
       "    <tr>\n",
       "      <th>2</th>\n",
       "      <td>2</td>\n",
       "      <td>1.0</td>\n",
       "      <td>0.0</td>\n",
       "      <td>424.245</td>\n",
       "      <td>7.852598</td>\n",
       "    </tr>\n",
       "    <tr>\n",
       "      <th>3</th>\n",
       "      <td>3</td>\n",
       "      <td>1.0</td>\n",
       "      <td>1.0</td>\n",
       "      <td>19.280</td>\n",
       "      <td>0.857483</td>\n",
       "    </tr>\n",
       "    <tr>\n",
       "      <th>4</th>\n",
       "      <td>4</td>\n",
       "      <td>2.0</td>\n",
       "      <td>0.0</td>\n",
       "      <td>48.955</td>\n",
       "      <td>3.997861</td>\n",
       "    </tr>\n",
       "  </tbody>\n",
       "</table>\n",
       "</div>"
      ],
      "text/plain": [
       "   Unnamed: 0  query  alpha     mean        std\n",
       "0           0    0.0    0.0  625.930  13.817733\n",
       "1           1    0.0    1.0   14.120   1.580535\n",
       "2           2    1.0    0.0  424.245   7.852598\n",
       "3           3    1.0    1.0   19.280   0.857483\n",
       "4           4    2.0    0.0   48.955   3.997861"
      ]
     },
     "execution_count": 7,
     "metadata": {},
     "output_type": "execute_result"
    }
   ],
   "source": [
    "running_times_imputedb.head()"
   ]
  },
  {
   "cell_type": "code",
   "execution_count": 8,
   "metadata": {
    "collapsed": true
   },
   "outputs": [],
   "source": [
    "# Combine dataframes.\n",
    "running_times_combined = running_times_base_tables.append(running_times_imputedb)"
   ]
  },
  {
   "cell_type": "code",
   "execution_count": 9,
   "metadata": {
    "collapsed": false
   },
   "outputs": [
    {
     "data": {
      "text/html": [
       "<div>\n",
       "<table border=\"1\" class=\"dataframe\">\n",
       "  <thead>\n",
       "    <tr style=\"text-align: right;\">\n",
       "      <th></th>\n",
       "      <th>Unnamed: 0</th>\n",
       "      <th>query</th>\n",
       "      <th>alpha</th>\n",
       "      <th>mean</th>\n",
       "      <th>std</th>\n",
       "    </tr>\n",
       "  </thead>\n",
       "  <tbody>\n",
       "    <tr>\n",
       "      <th>0</th>\n",
       "      <td>0</td>\n",
       "      <td>0.0</td>\n",
       "      <td>Impute at base tables</td>\n",
       "      <td>6547.945</td>\n",
       "      <td>24.885506</td>\n",
       "    </tr>\n",
       "    <tr>\n",
       "      <th>1</th>\n",
       "      <td>1</td>\n",
       "      <td>1.0</td>\n",
       "      <td>Impute at base tables</td>\n",
       "      <td>10661.390</td>\n",
       "      <td>33.137719</td>\n",
       "    </tr>\n",
       "    <tr>\n",
       "      <th>2</th>\n",
       "      <td>2</td>\n",
       "      <td>2.0</td>\n",
       "      <td>Impute at base tables</td>\n",
       "      <td>10672.580</td>\n",
       "      <td>31.472467</td>\n",
       "    </tr>\n",
       "    <tr>\n",
       "      <th>3</th>\n",
       "      <td>3</td>\n",
       "      <td>3.0</td>\n",
       "      <td>Impute at base tables</td>\n",
       "      <td>10679.545</td>\n",
       "      <td>30.605415</td>\n",
       "    </tr>\n",
       "    <tr>\n",
       "      <th>4</th>\n",
       "      <td>4</td>\n",
       "      <td>4.0</td>\n",
       "      <td>Impute at base tables</td>\n",
       "      <td>15951.700</td>\n",
       "      <td>51.275294</td>\n",
       "    </tr>\n",
       "  </tbody>\n",
       "</table>\n",
       "</div>"
      ],
      "text/plain": [
       "   Unnamed: 0  query                  alpha       mean        std\n",
       "0           0    0.0  Impute at base tables   6547.945  24.885506\n",
       "1           1    1.0  Impute at base tables  10661.390  33.137719\n",
       "2           2    2.0  Impute at base tables  10672.580  31.472467\n",
       "3           3    3.0  Impute at base tables  10679.545  30.605415\n",
       "4           4    4.0  Impute at base tables  15951.700  51.275294"
      ]
     },
     "execution_count": 9,
     "metadata": {},
     "output_type": "execute_result"
    }
   ],
   "source": [
    "running_times_combined.head()"
   ]
  },
  {
   "cell_type": "code",
   "execution_count": 14,
   "metadata": {
    "collapsed": false
   },
   "outputs": [
    {
     "data": {
      "text/plain": [
       "<matplotlib.figure.Figure at 0x7f7aff5f2198>"
      ]
     },
     "metadata": {},
     "output_type": "display_data"
    },
    {
     "data": {
      "image/png": "[encoded data removed]",
      "text/plain": [
       "<matplotlib.figure.Figure at 0x7f7b01161e80>"
      ]
     },
     "metadata": {},
     "output_type": "display_data"
    }
   ],
   "source": [
    "name = \"combined\"\n",
    "kind = \"running_times\"\n",
    "df = running_times_combined\n",
    "\n",
    "# plots\n",
    "xticks = range(0, nqueries)\n",
    "xlabels = [\"%i\" % (q + 1) for q in xticks]\n",
    "\n",
    "plt.figure()\n",
    "\n",
    "df2 = df.copy()\n",
    "df2 = df2.pivot(index=\"query\",columns=\"alpha\",values=\"mean\")\n",
    "df2 = df2[[\"Impute at base tables\",0.0,1.0]]\n",
    "df2 = df2.rename(columns={0.0: r\"$\\alpha = 0.0$\", 1.0: r\"$\\alpha=1.0$\"})\n",
    "ax = df2.plot(kind=\"bar\")\n",
    "ax.set_yscale(\"log\")\n",
    "ax.set_ylim(bottom=0.99, top=10e6-0.1)\n",
    "ax.legend(title=None,loc=\"best\", fontsize=14)\n",
    "\n",
    "xticks = range(0, len(df2))\n",
    "xlabels = [\"%i\" % (q + 1) for q in xticks]\n",
    "plt.xlim(xticks[0] - 1, xticks[-1] + 1)\n",
    "plt.xticks(xticks, xlabels,rotation=0)\n",
    "\n",
    "plt.xlabel('Query')\n",
    "plt.ylabel(\"Running Time (ms)\")\n",
    "\n",
    "for item in ([ax.xaxis.label, ax.yaxis.label] +\n",
    "             ax.get_xticklabels() + ax.get_yticklabels()):\n",
    "    item.set_fontsize(12)\n",
    "    \n",
    "plt.savefig(os.path.join(\"/data/large03\", '{}_{}_bar.png'.format(kind, name)),bbox_inches='tight')"
   ]
  },
  {
   "cell_type": "code",
   "execution_count": 15,
   "metadata": {
    "collapsed": false
   },
   "outputs": [
    {
     "data": {
      "text/html": [
       "<div>\n",
       "<table border=\"1\" class=\"dataframe\">\n",
       "  <thead>\n",
       "    <tr style=\"text-align: right;\">\n",
       "      <th>alpha</th>\n",
       "      <th>Impute at base tables</th>\n",
       "      <th>$\\alpha = 0.0$</th>\n",
       "      <th>$\\alpha=1.0$</th>\n",
       "    </tr>\n",
       "    <tr>\n",
       "      <th>query</th>\n",
       "      <th></th>\n",
       "      <th></th>\n",
       "      <th></th>\n",
       "    </tr>\n",
       "  </thead>\n",
       "  <tbody>\n",
       "    <tr>\n",
       "      <th>0.0</th>\n",
       "      <td>6.423385e+03</td>\n",
       "      <td>633.240</td>\n",
       "      <td>14.875</td>\n",
       "    </tr>\n",
       "    <tr>\n",
       "      <th>1.0</th>\n",
       "      <td>1.046105e+04</td>\n",
       "      <td>430.870</td>\n",
       "      <td>18.875</td>\n",
       "    </tr>\n",
       "    <tr>\n",
       "      <th>2.0</th>\n",
       "      <td>1.047233e+04</td>\n",
       "      <td>49.440</td>\n",
       "      <td>18.135</td>\n",
       "    </tr>\n",
       "    <tr>\n",
       "      <th>3.0</th>\n",
       "      <td>1.047220e+04</td>\n",
       "      <td>139.835</td>\n",
       "      <td>19.155</td>\n",
       "    </tr>\n",
       "    <tr>\n",
       "      <th>4.0</th>\n",
       "      <td>1.553937e+04</td>\n",
       "      <td>989.285</td>\n",
       "      <td>15.480</td>\n",
       "    </tr>\n",
       "    <tr>\n",
       "      <th>5.0</th>\n",
       "      <td>1.554201e+04</td>\n",
       "      <td>566.220</td>\n",
       "      <td>14.570</td>\n",
       "    </tr>\n",
       "    <tr>\n",
       "      <th>6.0</th>\n",
       "      <td>1.553208e+04</td>\n",
       "      <td>458.565</td>\n",
       "      <td>15.300</td>\n",
       "    </tr>\n",
       "    <tr>\n",
       "      <th>7.0</th>\n",
       "      <td>1.555014e+04</td>\n",
       "      <td>1505.245</td>\n",
       "      <td>17.795</td>\n",
       "    </tr>\n",
       "    <tr>\n",
       "      <th>8.0</th>\n",
       "      <td>2.131124e+07</td>\n",
       "      <td>4736.380</td>\n",
       "      <td>1336.205</td>\n",
       "    </tr>\n",
       "  </tbody>\n",
       "</table>\n",
       "</div>"
      ],
      "text/plain": [
       "alpha  Impute at base tables  $\\alpha = 0.0$  $\\alpha=1.0$\n",
       "query                                                     \n",
       "0.0             6.423385e+03         633.240        14.875\n",
       "1.0             1.046105e+04         430.870        18.875\n",
       "2.0             1.047233e+04          49.440        18.135\n",
       "3.0             1.047220e+04         139.835        19.155\n",
       "4.0             1.553937e+04         989.285        15.480\n",
       "5.0             1.554201e+04         566.220        14.570\n",
       "6.0             1.553208e+04         458.565        15.300\n",
       "7.0             1.555014e+04        1505.245        17.795\n",
       "8.0             2.131124e+07        4736.380      1336.205"
      ]
     },
     "execution_count": 15,
     "metadata": {},
     "output_type": "execute_result"
    }
   ],
   "source": [
    "df2"
   ]
  },
  {
   "cell_type": "code",
   "execution_count": 17,
   "metadata": {
    "collapsed": false
   },
   "outputs": [],
   "source": [
    "df2.to_csv(os.path.join(\"/data/update\",'{}_{}_bar.csv'.format(kind, name)))"
   ]
  }
 ],
 "metadata": {
  "kernelspec": {
   "display_name": "Python 3",
   "language": "python",
   "name": "python3"
  },
  "language_info": {
   "codemirror_mode": {
    "name": "ipython",
    "version": 3
   },
   "file_extension": ".py",
   "mimetype": "text/x-python",
   "name": "python",
   "nbconvert_exporter": "python",
   "pygments_lexer": "ipython3",
   "version": "3.5.2"
  }
 },
 "nbformat": 4,
 "nbformat_minor": 2
}
