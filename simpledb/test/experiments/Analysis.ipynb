{
 "cells": [
  {
   "cell_type": "code",
   "execution_count": 1,
   "metadata": {
    "collapsed": false
   },
   "outputs": [
    {
     "data": {
      "application/javascript": [
       "IPython.notebook.set_autosave_interval(0)"
      ]
     },
     "metadata": {},
     "output_type": "display_data"
    },
    {
     "name": "stdout",
     "output_type": "stream",
     "text": [
      "Autosave disabled\n"
     ]
    }
   ],
   "source": [
    "%autosave 0\n",
    "import os\n",
    "import pandas as pd\n",
    "import numpy as np\n",
    "import matplotlib\n",
    "import matplotlib.pyplot as plt\n",
    "%matplotlib inline\n",
    "\n",
    "plt.style.use(['seaborn-white', 'seaborn-paper'])\n",
    "matplotlib.rc(\"font\",size=22)"
   ]
  },
  {
   "cell_type": "code",
   "execution_count": 2,
   "metadata": {
    "collapsed": true
   },
   "outputs": [],
   "source": [
    "# Load data\n",
    "def load_data(kind, name, subdir=\"\"):\n",
    "    df = pd.read_csv(os.path.join(\"/data\", subdir, \"{}_{}.csv\".format(kind, name)))\n",
    "    return df\n",
    "\n",
    "nqueries_ = 9\n",
    "running_times_imputedb_alt = load_data(\"running_times\",\"imputedb\",\"test2\")\n",
    "running_times_base_tables_alt = load_data(\"running_times\",\"base_tables\",\"test2\")\n",
    "running_times_imputedb_acs = load_data(\"running_times\",\"imputedb\",\"test5\")\n",
    "running_times_base_tables_acs = load_data(\"running_times\",\"base_tables\",\"test5\")"
   ]
  },
  {
   "cell_type": "code",
   "execution_count": 3,
   "metadata": {
    "collapsed": false
   },
   "outputs": [
    {
     "data": {
      "text/html": [
       "<div>\n",
       "<table border=\"1\" class=\"dataframe\">\n",
       "  <thead>\n",
       "    <tr style=\"text-align: right;\">\n",
       "      <th></th>\n",
       "      <th>Unnamed: 0</th>\n",
       "      <th>query</th>\n",
       "      <th>alpha</th>\n",
       "      <th>mean</th>\n",
       "      <th>std</th>\n",
       "      <th>plan_hash</th>\n",
       "    </tr>\n",
       "  </thead>\n",
       "  <tbody>\n",
       "    <tr>\n",
       "      <th>0</th>\n",
       "      <td>0</td>\n",
       "      <td>0</td>\n",
       "      <td>0.0</td>\n",
       "      <td>21311241</td>\n",
       "      <td>0</td>\n",
       "      <td>-1368619563</td>\n",
       "    </tr>\n",
       "  </tbody>\n",
       "</table>\n",
       "</div>"
      ],
      "text/plain": [
       "   Unnamed: 0  query  alpha      mean  std   plan_hash\n",
       "0           0      0    0.0  21311241    0 -1368619563"
      ]
     },
     "execution_count": 3,
     "metadata": {},
     "output_type": "execute_result"
    }
   ],
   "source": [
    "running_times_base_tables_acs.head()"
   ]
  },
  {
   "cell_type": "code",
   "execution_count": 4,
   "metadata": {
    "collapsed": false
   },
   "outputs": [
    {
     "data": {
      "text/html": [
       "<div>\n",
       "<table border=\"1\" class=\"dataframe\">\n",
       "  <thead>\n",
       "    <tr style=\"text-align: right;\">\n",
       "      <th></th>\n",
       "      <th>Unnamed: 0</th>\n",
       "      <th>query</th>\n",
       "      <th>alpha</th>\n",
       "      <th>std</th>\n",
       "      <th>mean</th>\n",
       "    </tr>\n",
       "  </thead>\n",
       "  <tbody>\n",
       "    <tr>\n",
       "      <th>0</th>\n",
       "      <td>0</td>\n",
       "      <td>0.0</td>\n",
       "      <td>0.0</td>\n",
       "      <td>1404.758942</td>\n",
       "      <td>4736.380</td>\n",
       "    </tr>\n",
       "    <tr>\n",
       "      <th>1</th>\n",
       "      <td>1</td>\n",
       "      <td>0.0</td>\n",
       "      <td>1.0</td>\n",
       "      <td>4.594401</td>\n",
       "      <td>1336.205</td>\n",
       "    </tr>\n",
       "  </tbody>\n",
       "</table>\n",
       "</div>"
      ],
      "text/plain": [
       "   Unnamed: 0  query  alpha          std      mean\n",
       "0           0    0.0    0.0  1404.758942  4736.380\n",
       "1           1    0.0    1.0     4.594401  1336.205"
      ]
     },
     "execution_count": 4,
     "metadata": {},
     "output_type": "execute_result"
    }
   ],
   "source": [
    "running_times_imputedb_acs.head()"
   ]
  },
  {
   "cell_type": "code",
   "execution_count": 6,
   "metadata": {
    "collapsed": true
   },
   "outputs": [],
   "source": [
    "# Combine dataframes.\n",
    "df1 = running_times_base_tables_acs\n",
    "df2 = running_times_base_tables_alt\n",
    "df3 = running_times_imputedb_acs\n",
    "df4 = running_times_imputedb_alt\n",
    "\n",
    "df1[\"query\"] = nqueries_-1.0\n",
    "df3[\"query\"] = nqueries_-1.0\n",
    "df1[\"alpha\"] = \"Impute at base tables\"\n",
    "running_times_combined = df1.append(df2).append(df3).append(df4)\n",
    "running_times_combined_8 = df2.append(df4)"
   ]
  },
  {
   "cell_type": "code",
   "execution_count": 7,
   "metadata": {
    "collapsed": false
   },
   "outputs": [
    {
     "data": {
      "text/html": [
       "<div>\n",
       "<table border=\"1\" class=\"dataframe\">\n",
       "  <thead>\n",
       "    <tr style=\"text-align: right;\">\n",
       "      <th></th>\n",
       "      <th>Unnamed: 0</th>\n",
       "      <th>alpha</th>\n",
       "      <th>mean</th>\n",
       "      <th>plan_hash</th>\n",
       "      <th>query</th>\n",
       "      <th>std</th>\n",
       "    </tr>\n",
       "  </thead>\n",
       "  <tbody>\n",
       "    <tr>\n",
       "      <th>0</th>\n",
       "      <td>0</td>\n",
       "      <td>Impute at base tables</td>\n",
       "      <td>2.131124e+07</td>\n",
       "      <td>-1.368620e+09</td>\n",
       "      <td>8.0</td>\n",
       "      <td>0.000000</td>\n",
       "    </tr>\n",
       "    <tr>\n",
       "      <th>0</th>\n",
       "      <td>0</td>\n",
       "      <td>Impute at base tables</td>\n",
       "      <td>6.423385e+03</td>\n",
       "      <td>NaN</td>\n",
       "      <td>0.0</td>\n",
       "      <td>30.590615</td>\n",
       "    </tr>\n",
       "    <tr>\n",
       "      <th>1</th>\n",
       "      <td>1</td>\n",
       "      <td>Impute at base tables</td>\n",
       "      <td>1.046105e+04</td>\n",
       "      <td>NaN</td>\n",
       "      <td>1.0</td>\n",
       "      <td>28.374257</td>\n",
       "    </tr>\n",
       "    <tr>\n",
       "      <th>2</th>\n",
       "      <td>2</td>\n",
       "      <td>Impute at base tables</td>\n",
       "      <td>1.047233e+04</td>\n",
       "      <td>NaN</td>\n",
       "      <td>2.0</td>\n",
       "      <td>38.754340</td>\n",
       "    </tr>\n",
       "    <tr>\n",
       "      <th>3</th>\n",
       "      <td>3</td>\n",
       "      <td>Impute at base tables</td>\n",
       "      <td>1.047220e+04</td>\n",
       "      <td>NaN</td>\n",
       "      <td>3.0</td>\n",
       "      <td>24.958115</td>\n",
       "    </tr>\n",
       "  </tbody>\n",
       "</table>\n",
       "</div>"
      ],
      "text/plain": [
       "   Unnamed: 0                  alpha          mean     plan_hash  query  \\\n",
       "0           0  Impute at base tables  2.131124e+07 -1.368620e+09    8.0   \n",
       "0           0  Impute at base tables  6.423385e+03           NaN    0.0   \n",
       "1           1  Impute at base tables  1.046105e+04           NaN    1.0   \n",
       "2           2  Impute at base tables  1.047233e+04           NaN    2.0   \n",
       "3           3  Impute at base tables  1.047220e+04           NaN    3.0   \n",
       "\n",
       "         std  \n",
       "0   0.000000  \n",
       "0  30.590615  \n",
       "1  28.374257  \n",
       "2  38.754340  \n",
       "3  24.958115  "
      ]
     },
     "execution_count": 7,
     "metadata": {},
     "output_type": "execute_result"
    }
   ],
   "source": [
    "running_times_combined.head()"
   ]
  },
  {
   "cell_type": "code",
   "execution_count": 14,
   "metadata": {
    "collapsed": false
   },
   "outputs": [
    {
     "data": {
      "text/plain": [
       "<matplotlib.figure.Figure at 0x7ff457616d30>"
      ]
     },
     "metadata": {},
     "output_type": "display_data"
    },
    {
     "data": {
      "image/png": "[encoded data removed]",
      "text/plain": [
       "<matplotlib.figure.Figure at 0x7ff45771bda0>"
      ]
     },
     "metadata": {},
     "output_type": "display_data"
    }
   ],
   "source": [
    "name = \"combined\"\n",
    "kind = \"running_times\"\n",
    "df = running_times_combined\n",
    "\n",
    "# plots\n",
    "xticks = range(0, nqueries)\n",
    "xlabels = [\"%i\" % (q + 1) for q in xticks]\n",
    "\n",
    "plt.figure()\n",
    "\n",
    "df2 = df.copy()\n",
    "df2 = df2.pivot(index=\"query\",columns=\"alpha\",values=\"mean\")\n",
    "df2 = df2[[\"Impute at base tables\",0.0,1.0]]\n",
    "df2 = df2.rename(columns={0.0: r\"$\\alpha = 0.0$\", 1.0: r\"$\\alpha=1.0$\"})\n",
    "ax = df2.plot(kind=\"bar\")\n",
    "ax.set_yscale(\"log\")\n",
    "ax.set_ylim(bottom=0.99)\n",
    "ax.legend(title=None,loc=\"best\", fontsize=14)\n",
    "\n",
    "xticks = range(0, len(df2))\n",
    "xlabels = [\"%i\" % (q + 1) for q in xticks]\n",
    "plt.xlim(xticks[0] - 1, xticks[-1] + 1)\n",
    "plt.xticks(xticks, xlabels,rotation=0)\n",
    "\n",
    "plt.xlabel('Query')\n",
    "plt.ylabel(\"Running Time (ms)\")\n",
    "\n",
    "for item in ([ax.xaxis.label, ax.yaxis.label] +\n",
    "             ax.get_xticklabels() + ax.get_yticklabels()):\n",
    "    item.set_fontsize(12)\n",
    "    \n",
    "plt.savefig(os.path.join(\"/data/update\", '{}_{}_bar.png'.format(kind, name)),bbox_inches='tight')"
   ]
  },
  {
   "cell_type": "code",
   "execution_count": 15,
   "metadata": {
    "collapsed": false
   },
   "outputs": [
    {
     "data": {
      "text/html": [
       "<div>\n",
       "<table border=\"1\" class=\"dataframe\">\n",
       "  <thead>\n",
       "    <tr style=\"text-align: right;\">\n",
       "      <th>alpha</th>\n",
       "      <th>Impute at base tables</th>\n",
       "      <th>$\\alpha = 0.0$</th>\n",
       "      <th>$\\alpha=1.0$</th>\n",
       "    </tr>\n",
       "    <tr>\n",
       "      <th>query</th>\n",
       "      <th></th>\n",
       "      <th></th>\n",
       "      <th></th>\n",
       "    </tr>\n",
       "  </thead>\n",
       "  <tbody>\n",
       "    <tr>\n",
       "      <th>0.0</th>\n",
       "      <td>6.423385e+03</td>\n",
       "      <td>633.240</td>\n",
       "      <td>14.875</td>\n",
       "    </tr>\n",
       "    <tr>\n",
       "      <th>1.0</th>\n",
       "      <td>1.046105e+04</td>\n",
       "      <td>430.870</td>\n",
       "      <td>18.875</td>\n",
       "    </tr>\n",
       "    <tr>\n",
       "      <th>2.0</th>\n",
       "      <td>1.047233e+04</td>\n",
       "      <td>49.440</td>\n",
       "      <td>18.135</td>\n",
       "    </tr>\n",
       "    <tr>\n",
       "      <th>3.0</th>\n",
       "      <td>1.047220e+04</td>\n",
       "      <td>139.835</td>\n",
       "      <td>19.155</td>\n",
       "    </tr>\n",
       "    <tr>\n",
       "      <th>4.0</th>\n",
       "      <td>1.553937e+04</td>\n",
       "      <td>989.285</td>\n",
       "      <td>15.480</td>\n",
       "    </tr>\n",
       "    <tr>\n",
       "      <th>5.0</th>\n",
       "      <td>1.554201e+04</td>\n",
       "      <td>566.220</td>\n",
       "      <td>14.570</td>\n",
       "    </tr>\n",
       "    <tr>\n",
       "      <th>6.0</th>\n",
       "      <td>1.553208e+04</td>\n",
       "      <td>458.565</td>\n",
       "      <td>15.300</td>\n",
       "    </tr>\n",
       "    <tr>\n",
       "      <th>7.0</th>\n",
       "      <td>1.555014e+04</td>\n",
       "      <td>1505.245</td>\n",
       "      <td>17.795</td>\n",
       "    </tr>\n",
       "    <tr>\n",
       "      <th>8.0</th>\n",
       "      <td>2.131124e+07</td>\n",
       "      <td>4736.380</td>\n",
       "      <td>1336.205</td>\n",
       "    </tr>\n",
       "  </tbody>\n",
       "</table>\n",
       "</div>"
      ],
      "text/plain": [
       "alpha  Impute at base tables  $\\alpha = 0.0$  $\\alpha=1.0$\n",
       "query                                                     \n",
       "0.0             6.423385e+03         633.240        14.875\n",
       "1.0             1.046105e+04         430.870        18.875\n",
       "2.0             1.047233e+04          49.440        18.135\n",
       "3.0             1.047220e+04         139.835        19.155\n",
       "4.0             1.553937e+04         989.285        15.480\n",
       "5.0             1.554201e+04         566.220        14.570\n",
       "6.0             1.553208e+04         458.565        15.300\n",
       "7.0             1.555014e+04        1505.245        17.795\n",
       "8.0             2.131124e+07        4736.380      1336.205"
      ]
     },
     "execution_count": 15,
     "metadata": {},
     "output_type": "execute_result"
    }
   ],
   "source": [
    "df2"
   ]
  },
  {
   "cell_type": "code",
   "execution_count": 17,
   "metadata": {
    "collapsed": false
   },
   "outputs": [],
   "source": [
    "df2.to_csv(os.path.join(\"/data/update\",'{}_{}_bar.csv'.format(kind, name)))"
   ]
  },
  {
   "cell_type": "code",
   "execution_count": null,
   "metadata": {
    "collapsed": true
   },
   "outputs": [],
   "source": []
  }
 ],
 "metadata": {
  "kernelspec": {
   "display_name": "Python 3",
   "language": "python",
   "name": "python3"
  },
  "language_info": {
   "codemirror_mode": {
    "name": "ipython",
    "version": 3
   },
   "file_extension": ".py",
   "mimetype": "text/x-python",
   "name": "python",
   "nbconvert_exporter": "python",
   "pygments_lexer": "ipython3",
   "version": "3.5.2"
  }
 },
 "nbformat": 4,
 "nbformat_minor": 2
}
