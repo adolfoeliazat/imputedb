{
 "cells": [
  {
   "cell_type": "code",
   "execution_count": 1,
   "metadata": {
    "collapsed": false
   },
   "outputs": [
    {
     "data": {
      "application/javascript": [
       "IPython.notebook.set_autosave_interval(0)"
      ]
     },
     "metadata": {},
     "output_type": "display_data"
    },
    {
     "name": "stdout",
     "output_type": "stream",
     "text": [
      "Autosave disabled\n"
     ]
    }
   ],
   "source": [
    "%autosave 0\n",
    "import os\n",
    "import pandas as pd\n",
    "import numpy as np\n",
    "import matplotlib\n",
    "import matplotlib.pyplot as plt\n",
    "%matplotlib inline\n",
    "\n",
    "plt.style.use(['seaborn-white', 'seaborn-paper'])\n",
    "matplotlib.rc(\"font\",size=22)"
   ]
  },
  {
   "cell_type": "code",
   "execution_count": 2,
   "metadata": {
    "collapsed": false
   },
   "outputs": [
    {
     "data": {
      "text/plain": [
       "['perf_summary.tex',\n",
       " 'planning_times_base_tables.csv',\n",
       " 'planning_times_imputedb.csv',\n",
       " 'running_times_base_tables.csv',\n",
       " 'running_times_imputedb.csv']"
      ]
     },
     "execution_count": 2,
     "metadata": {},
     "output_type": "execute_result"
    }
   ],
   "source": [
    "os.listdir(\"/data/large03/analysis\")"
   ]
  },
  {
   "cell_type": "code",
   "execution_count": 3,
   "metadata": {
    "collapsed": false
   },
   "outputs": [
    {
     "data": {
      "text/plain": [
       "['counts_mean.tex',\n",
       " 'counts_mean_pct.tex',\n",
       " 'counts_std.tex',\n",
       " 'perf_summary.tex',\n",
       " 'planning_times_base_tables.csv',\n",
       " 'planning_times_imputedb.csv',\n",
       " 'running_times_base_tables.csv',\n",
       " 'running_times_imputedb.csv']"
      ]
     },
     "execution_count": 3,
     "metadata": {},
     "output_type": "execute_result"
    }
   ],
   "source": [
    "os.listdir(\"/data/large04/analysis\")"
   ]
  },
  {
   "cell_type": "code",
   "execution_count": 4,
   "metadata": {
    "collapsed": true
   },
   "outputs": [],
   "source": [
    "# Load data\n",
    "def load_data(kind, name, subdir=\"\"):\n",
    "    df = pd.read_csv(os.path.join(\"/data\", subdir, \"{}_{}.csv\".format(kind, name)))\n",
    "    return df\n",
    "\n",
    "nqueries = 13\n",
    "running_times_imputedb = load_data(\"running_times\",\"imputedb\",\"large03/analysis\")\n",
    "running_times_base_tables = load_data(\"running_times\",\"base_tables\",\"large03/analysis\")"
   ]
  },
  {
   "cell_type": "code",
   "execution_count": 5,
   "metadata": {
    "collapsed": false
   },
   "outputs": [
    {
     "data": {
      "text/html": [
       "<div>\n",
       "<table border=\"1\" class=\"dataframe\">\n",
       "  <thead>\n",
       "    <tr style=\"text-align: right;\">\n",
       "      <th></th>\n",
       "      <th>Unnamed: 0</th>\n",
       "      <th>query</th>\n",
       "      <th>alpha</th>\n",
       "      <th>mean</th>\n",
       "      <th>std</th>\n",
       "    </tr>\n",
       "  </thead>\n",
       "  <tbody>\n",
       "    <tr>\n",
       "      <th>0</th>\n",
       "      <td>0</td>\n",
       "      <td>0.0</td>\n",
       "      <td>Impute at base tables</td>\n",
       "      <td>6547.945</td>\n",
       "      <td>24.885506</td>\n",
       "    </tr>\n",
       "    <tr>\n",
       "      <th>1</th>\n",
       "      <td>1</td>\n",
       "      <td>1.0</td>\n",
       "      <td>Impute at base tables</td>\n",
       "      <td>10661.390</td>\n",
       "      <td>33.137719</td>\n",
       "    </tr>\n",
       "    <tr>\n",
       "      <th>2</th>\n",
       "      <td>2</td>\n",
       "      <td>2.0</td>\n",
       "      <td>Impute at base tables</td>\n",
       "      <td>10672.580</td>\n",
       "      <td>31.472467</td>\n",
       "    </tr>\n",
       "    <tr>\n",
       "      <th>3</th>\n",
       "      <td>3</td>\n",
       "      <td>3.0</td>\n",
       "      <td>Impute at base tables</td>\n",
       "      <td>10679.545</td>\n",
       "      <td>30.605415</td>\n",
       "    </tr>\n",
       "    <tr>\n",
       "      <th>4</th>\n",
       "      <td>4</td>\n",
       "      <td>4.0</td>\n",
       "      <td>Impute at base tables</td>\n",
       "      <td>15951.700</td>\n",
       "      <td>51.275294</td>\n",
       "    </tr>\n",
       "  </tbody>\n",
       "</table>\n",
       "</div>"
      ],
      "text/plain": [
       "   Unnamed: 0  query                  alpha       mean        std\n",
       "0           0    0.0  Impute at base tables   6547.945  24.885506\n",
       "1           1    1.0  Impute at base tables  10661.390  33.137719\n",
       "2           2    2.0  Impute at base tables  10672.580  31.472467\n",
       "3           3    3.0  Impute at base tables  10679.545  30.605415\n",
       "4           4    4.0  Impute at base tables  15951.700  51.275294"
      ]
     },
     "execution_count": 5,
     "metadata": {},
     "output_type": "execute_result"
    }
   ],
   "source": [
    "running_times_base_tables.head()"
   ]
  },
  {
   "cell_type": "code",
   "execution_count": 6,
   "metadata": {
    "collapsed": false
   },
   "outputs": [
    {
     "data": {
      "text/html": [
       "<div>\n",
       "<table border=\"1\" class=\"dataframe\">\n",
       "  <thead>\n",
       "    <tr style=\"text-align: right;\">\n",
       "      <th></th>\n",
       "      <th>Unnamed: 0</th>\n",
       "      <th>query</th>\n",
       "      <th>alpha</th>\n",
       "      <th>mean</th>\n",
       "      <th>std</th>\n",
       "    </tr>\n",
       "  </thead>\n",
       "  <tbody>\n",
       "    <tr>\n",
       "      <th>0</th>\n",
       "      <td>0</td>\n",
       "      <td>0.0</td>\n",
       "      <td>0.0</td>\n",
       "      <td>625.930</td>\n",
       "      <td>13.817733</td>\n",
       "    </tr>\n",
       "    <tr>\n",
       "      <th>1</th>\n",
       "      <td>1</td>\n",
       "      <td>0.0</td>\n",
       "      <td>1.0</td>\n",
       "      <td>14.120</td>\n",
       "      <td>1.580535</td>\n",
       "    </tr>\n",
       "    <tr>\n",
       "      <th>2</th>\n",
       "      <td>2</td>\n",
       "      <td>1.0</td>\n",
       "      <td>0.0</td>\n",
       "      <td>424.245</td>\n",
       "      <td>7.852598</td>\n",
       "    </tr>\n",
       "    <tr>\n",
       "      <th>3</th>\n",
       "      <td>3</td>\n",
       "      <td>1.0</td>\n",
       "      <td>1.0</td>\n",
       "      <td>19.280</td>\n",
       "      <td>0.857483</td>\n",
       "    </tr>\n",
       "    <tr>\n",
       "      <th>4</th>\n",
       "      <td>4</td>\n",
       "      <td>2.0</td>\n",
       "      <td>0.0</td>\n",
       "      <td>48.955</td>\n",
       "      <td>3.997861</td>\n",
       "    </tr>\n",
       "  </tbody>\n",
       "</table>\n",
       "</div>"
      ],
      "text/plain": [
       "   Unnamed: 0  query  alpha     mean        std\n",
       "0           0    0.0    0.0  625.930  13.817733\n",
       "1           1    0.0    1.0   14.120   1.580535\n",
       "2           2    1.0    0.0  424.245   7.852598\n",
       "3           3    1.0    1.0   19.280   0.857483\n",
       "4           4    2.0    0.0   48.955   3.997861"
      ]
     },
     "execution_count": 6,
     "metadata": {},
     "output_type": "execute_result"
    }
   ],
   "source": [
    "running_times_imputedb.head()"
   ]
  },
  {
   "cell_type": "code",
   "execution_count": 14,
   "metadata": {
    "collapsed": true
   },
   "outputs": [],
   "source": [
    "# Combine dataframes.\n",
    "running_times_combined = running_times_base_tables.append(running_times_imputedb)\n",
    "running_times_combined_copy = running_times_combined.copy()"
   ]
  },
  {
   "cell_type": "code",
   "execution_count": 8,
   "metadata": {
    "collapsed": false
   },
   "outputs": [
    {
     "data": {
      "text/html": [
       "<div>\n",
       "<table border=\"1\" class=\"dataframe\">\n",
       "  <thead>\n",
       "    <tr style=\"text-align: right;\">\n",
       "      <th></th>\n",
       "      <th>Unnamed: 0</th>\n",
       "      <th>query</th>\n",
       "      <th>alpha</th>\n",
       "      <th>mean</th>\n",
       "      <th>std</th>\n",
       "    </tr>\n",
       "  </thead>\n",
       "  <tbody>\n",
       "    <tr>\n",
       "      <th>0</th>\n",
       "      <td>0</td>\n",
       "      <td>0.0</td>\n",
       "      <td>Impute at base tables</td>\n",
       "      <td>6547.945</td>\n",
       "      <td>24.885506</td>\n",
       "    </tr>\n",
       "    <tr>\n",
       "      <th>1</th>\n",
       "      <td>1</td>\n",
       "      <td>1.0</td>\n",
       "      <td>Impute at base tables</td>\n",
       "      <td>10661.390</td>\n",
       "      <td>33.137719</td>\n",
       "    </tr>\n",
       "    <tr>\n",
       "      <th>2</th>\n",
       "      <td>2</td>\n",
       "      <td>2.0</td>\n",
       "      <td>Impute at base tables</td>\n",
       "      <td>10672.580</td>\n",
       "      <td>31.472467</td>\n",
       "    </tr>\n",
       "    <tr>\n",
       "      <th>3</th>\n",
       "      <td>3</td>\n",
       "      <td>3.0</td>\n",
       "      <td>Impute at base tables</td>\n",
       "      <td>10679.545</td>\n",
       "      <td>30.605415</td>\n",
       "    </tr>\n",
       "    <tr>\n",
       "      <th>4</th>\n",
       "      <td>4</td>\n",
       "      <td>4.0</td>\n",
       "      <td>Impute at base tables</td>\n",
       "      <td>15951.700</td>\n",
       "      <td>51.275294</td>\n",
       "    </tr>\n",
       "  </tbody>\n",
       "</table>\n",
       "</div>"
      ],
      "text/plain": [
       "   Unnamed: 0  query                  alpha       mean        std\n",
       "0           0    0.0  Impute at base tables   6547.945  24.885506\n",
       "1           1    1.0  Impute at base tables  10661.390  33.137719\n",
       "2           2    2.0  Impute at base tables  10672.580  31.472467\n",
       "3           3    3.0  Impute at base tables  10679.545  30.605415\n",
       "4           4    4.0  Impute at base tables  15951.700  51.275294"
      ]
     },
     "execution_count": 8,
     "metadata": {},
     "output_type": "execute_result"
    }
   ],
   "source": [
    "running_times_combined.head()"
   ]
  },
  {
   "cell_type": "code",
   "execution_count": 23,
   "metadata": {
    "collapsed": false
   },
   "outputs": [
    {
     "data": {
      "text/plain": [
       "{1.0: 1.0,\n",
       " 2.0: 2.0,\n",
       " 3.0: 3.0,\n",
       " 5.0: 6.0,\n",
       " 6.0: 7.0,\n",
       " 7.0: 8.0,\n",
       " 8.0: 4.0,\n",
       " 9.0: 0.0,\n",
       " 10.0: 5.0}"
      ]
     },
     "execution_count": 23,
     "metadata": {},
     "output_type": "execute_result"
    }
   ],
   "source": [
    "# Rename certain queries\n",
    "qmap1 = {\n",
    "    10.0: 1.0,\n",
    "    2.0: 2.0,\n",
    "    3.0: 3.0,\n",
    "    4.0: 4.0,\n",
    "    9.0: 5.0,\n",
    "    11.0: 6.0,\n",
    "    6.0: 7.0,\n",
    "    7.0: 8.0,\n",
    "    8.0: 9.0,\n",
    "}\n",
    "qmap = {}\n",
    "for k, v in qmap1.items():\n",
    "    qmap[k-1] = v-1\n",
    "    \n",
    "qmap"
   ]
  },
  {
   "cell_type": "code",
   "execution_count": 24,
   "metadata": {
    "collapsed": false
   },
   "outputs": [
    {
     "data": {
      "text/html": [
       "<div>\n",
       "<table border=\"1\" class=\"dataframe\">\n",
       "  <thead>\n",
       "    <tr style=\"text-align: right;\">\n",
       "      <th></th>\n",
       "      <th>Unnamed: 0</th>\n",
       "      <th>query</th>\n",
       "      <th>alpha</th>\n",
       "      <th>mean</th>\n",
       "      <th>std</th>\n",
       "    </tr>\n",
       "  </thead>\n",
       "  <tbody>\n",
       "    <tr>\n",
       "      <th>1</th>\n",
       "      <td>1.0</td>\n",
       "      <td>1.0</td>\n",
       "      <td>Impute at base tables</td>\n",
       "      <td>10661.390</td>\n",
       "      <td>33.137719</td>\n",
       "    </tr>\n",
       "    <tr>\n",
       "      <th>2</th>\n",
       "      <td>2.0</td>\n",
       "      <td>2.0</td>\n",
       "      <td>Impute at base tables</td>\n",
       "      <td>10672.580</td>\n",
       "      <td>31.472467</td>\n",
       "    </tr>\n",
       "    <tr>\n",
       "      <th>3</th>\n",
       "      <td>3.0</td>\n",
       "      <td>3.0</td>\n",
       "      <td>Impute at base tables</td>\n",
       "      <td>10679.545</td>\n",
       "      <td>30.605415</td>\n",
       "    </tr>\n",
       "    <tr>\n",
       "      <th>5</th>\n",
       "      <td>5.0</td>\n",
       "      <td>6.0</td>\n",
       "      <td>Impute at base tables</td>\n",
       "      <td>15939.515</td>\n",
       "      <td>52.049356</td>\n",
       "    </tr>\n",
       "    <tr>\n",
       "      <th>6</th>\n",
       "      <td>6.0</td>\n",
       "      <td>7.0</td>\n",
       "      <td>Impute at base tables</td>\n",
       "      <td>15943.120</td>\n",
       "      <td>48.904949</td>\n",
       "    </tr>\n",
       "  </tbody>\n",
       "</table>\n",
       "</div>"
      ],
      "text/plain": [
       "   Unnamed: 0  query                  alpha       mean        std\n",
       "1         1.0    1.0  Impute at base tables  10661.390  33.137719\n",
       "2         2.0    2.0  Impute at base tables  10672.580  31.472467\n",
       "3         3.0    3.0  Impute at base tables  10679.545  30.605415\n",
       "5         5.0    6.0  Impute at base tables  15939.515  52.049356\n",
       "6         6.0    7.0  Impute at base tables  15943.120  48.904949"
      ]
     },
     "execution_count": 24,
     "metadata": {},
     "output_type": "execute_result"
    }
   ],
   "source": [
    "running_times_combined = pd.DataFrame(columns=running_times_combined_copy.columns)\n",
    "for index, row in running_times_combined_copy.iterrows():\n",
    "    old_query = row[\"query\"]\n",
    "    if old_query in qmap:\n",
    "        new_query = qmap[old_query]\n",
    "        row[\"query\"] = new_query\n",
    "        running_times_combined = running_times_combined.append(row)\n",
    "\n",
    "running_times_combined.head()"
   ]
  },
  {
   "cell_type": "code",
   "execution_count": 26,
   "metadata": {
    "collapsed": false
   },
   "outputs": [
    {
     "data": {
      "text/plain": [
       "<matplotlib.figure.Figure at 0x7f826fdd85f8>"
      ]
     },
     "metadata": {},
     "output_type": "display_data"
    },
    {
     "data": {
      "image/png": "[encoded data removed]",
      "text/plain": [
       "<matplotlib.figure.Figure at 0x7f827279a710>"
      ]
     },
     "metadata": {},
     "output_type": "display_data"
    }
   ],
   "source": [
    "name = \"combined\"\n",
    "kind = \"running_times\"\n",
    "df = running_times_combined\n",
    "\n",
    "# plots\n",
    "xticks = range(0, nqueries)\n",
    "xlabels = [\"%i\" % (q + 1) for q in xticks]\n",
    "\n",
    "plt.figure()\n",
    "\n",
    "df2 = df.copy()\n",
    "df2 = df2.pivot(index=\"query\",columns=\"alpha\",values=\"mean\")\n",
    "df2 = df2[[\"Impute at base tables\",0.0,1.0]]\n",
    "df2 = df2.rename(columns={0.0: r\"$\\alpha = 0.0$\", 1.0: r\"$\\alpha=1.0$\"})\n",
    "ax = df2.plot(kind=\"bar\")\n",
    "ax.set_yscale(\"log\")\n",
    "ax.set_ylim(bottom=0.99, top=10e6-0.1)\n",
    "ax.legend(title=None,loc=\"upper left\", fontsize=14)\n",
    "\n",
    "xticks = range(0, len(df2))\n",
    "xlabels = [\"%i\" % (q + 1) for q in xticks]\n",
    "plt.xlim(xticks[0] - 1, xticks[-1] + 1)\n",
    "plt.xticks(xticks, xlabels,rotation=0)\n",
    "\n",
    "plt.xlabel('Query')\n",
    "plt.ylabel(\"Running Time (ms)\")\n",
    "\n",
    "for item in ([ax.xaxis.label, ax.yaxis.label] +\n",
    "             ax.get_xticklabels() + ax.get_yticklabels()):\n",
    "    item.set_fontsize(12)\n",
    "    \n",
    "plt.savefig(os.path.join(\"/data/large03\", '{}_{}_bar_subset.png'.format(kind, name)),bbox_inches='tight')"
   ]
  },
  {
   "cell_type": "code",
   "execution_count": 27,
   "metadata": {
    "collapsed": false
   },
   "outputs": [
    {
     "data": {
      "text/html": [
       "<div>\n",
       "<table border=\"1\" class=\"dataframe\">\n",
       "  <thead>\n",
       "    <tr style=\"text-align: right;\">\n",
       "      <th>alpha</th>\n",
       "      <th>Impute at base tables</th>\n",
       "      <th>$\\alpha = 0.0$</th>\n",
       "      <th>$\\alpha=1.0$</th>\n",
       "    </tr>\n",
       "    <tr>\n",
       "      <th>query</th>\n",
       "      <th></th>\n",
       "      <th></th>\n",
       "      <th></th>\n",
       "    </tr>\n",
       "  </thead>\n",
       "  <tbody>\n",
       "    <tr>\n",
       "      <th>0.0</th>\n",
       "      <td>6571.260</td>\n",
       "      <td>337.320</td>\n",
       "      <td>13.900</td>\n",
       "    </tr>\n",
       "    <tr>\n",
       "      <th>1.0</th>\n",
       "      <td>10661.390</td>\n",
       "      <td>424.245</td>\n",
       "      <td>19.280</td>\n",
       "    </tr>\n",
       "    <tr>\n",
       "      <th>2.0</th>\n",
       "      <td>10672.580</td>\n",
       "      <td>48.955</td>\n",
       "      <td>18.120</td>\n",
       "    </tr>\n",
       "    <tr>\n",
       "      <th>3.0</th>\n",
       "      <td>10679.545</td>\n",
       "      <td>138.750</td>\n",
       "      <td>19.305</td>\n",
       "    </tr>\n",
       "    <tr>\n",
       "      <th>4.0</th>\n",
       "      <td>6557.520</td>\n",
       "      <td>305.760</td>\n",
       "      <td>12.235</td>\n",
       "    </tr>\n",
       "    <tr>\n",
       "      <th>5.0</th>\n",
       "      <td>15944.430</td>\n",
       "      <td>979.155</td>\n",
       "      <td>15.740</td>\n",
       "    </tr>\n",
       "    <tr>\n",
       "      <th>6.0</th>\n",
       "      <td>15939.515</td>\n",
       "      <td>561.410</td>\n",
       "      <td>14.580</td>\n",
       "    </tr>\n",
       "    <tr>\n",
       "      <th>7.0</th>\n",
       "      <td>15943.120</td>\n",
       "      <td>453.115</td>\n",
       "      <td>15.710</td>\n",
       "    </tr>\n",
       "    <tr>\n",
       "      <th>8.0</th>\n",
       "      <td>15947.055</td>\n",
       "      <td>1497.150</td>\n",
       "      <td>17.930</td>\n",
       "    </tr>\n",
       "  </tbody>\n",
       "</table>\n",
       "</div>"
      ],
      "text/plain": [
       "alpha  Impute at base tables  $\\alpha = 0.0$  $\\alpha=1.0$\n",
       "query                                                     \n",
       "0.0                 6571.260         337.320        13.900\n",
       "1.0                10661.390         424.245        19.280\n",
       "2.0                10672.580          48.955        18.120\n",
       "3.0                10679.545         138.750        19.305\n",
       "4.0                 6557.520         305.760        12.235\n",
       "5.0                15944.430         979.155        15.740\n",
       "6.0                15939.515         561.410        14.580\n",
       "7.0                15943.120         453.115        15.710\n",
       "8.0                15947.055        1497.150        17.930"
      ]
     },
     "execution_count": 27,
     "metadata": {},
     "output_type": "execute_result"
    }
   ],
   "source": [
    "df2"
   ]
  },
  {
   "cell_type": "code",
   "execution_count": 29,
   "metadata": {
    "collapsed": false
   },
   "outputs": [],
   "source": [
    "df2.to_csv(os.path.join(\"/data/large03\",'{}_{}_bar_subset.csv'.format(kind, name)))"
   ]
  },
  {
   "cell_type": "code",
   "execution_count": null,
   "metadata": {
    "collapsed": true
   },
   "outputs": [],
   "source": []
  }
 ],
 "metadata": {
  "kernelspec": {
   "display_name": "Python 3",
   "language": "python",
   "name": "python3"
  },
  "language_info": {
   "codemirror_mode": {
    "name": "ipython",
    "version": 3
   },
   "file_extension": ".py",
   "mimetype": "text/x-python",
   "name": "python",
   "nbconvert_exporter": "python",
   "pygments_lexer": "ipython3",
   "version": "3.5.2"
  }
 },
 "nbformat": 4,
 "nbformat_minor": 2
}
